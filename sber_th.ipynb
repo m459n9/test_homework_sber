{
 "cells": [
  {
   "cell_type": "code",
   "execution_count": 332,
   "id": "36b1005b",
   "metadata": {},
   "outputs": [
    {
     "name": "stderr",
     "output_type": "stream",
     "text": [
      "C:\\Users\\User\\AppData\\Local\\Temp\\ipykernel_13860\\1401149058.py:5: DeprecationWarning: Importing display from IPython.core.display is deprecated since IPython 7.14, please import from IPython display\n",
      "  from IPython.core.display import display, HTML, clear_output\n",
      "C:\\Users\\User\\AppData\\Local\\Temp\\ipykernel_13860\\1401149058.py:5: DeprecationWarning: Importing clear_output from IPython.core.display is deprecated since IPython 7.14, please import from IPython display\n",
      "  from IPython.core.display import display, HTML, clear_output\n"
     ]
    },
    {
     "data": {
      "text/html": [
       "<style>.container { width:90% !important; }</style>"
      ],
      "text/plain": [
       "<IPython.core.display.HTML object>"
      ]
     },
     "metadata": {},
     "output_type": "display_data"
    },
    {
     "data": {
      "text/html": [
       "<style>.prompt { min-width:10ex !important; }</style>"
      ],
      "text/plain": [
       "<IPython.core.display.HTML object>"
      ]
     },
     "metadata": {},
     "output_type": "display_data"
    },
    {
     "data": {
      "text/html": [
       "<style>div#notebook { font-size:12px !important; }</style>"
      ],
      "text/plain": [
       "<IPython.core.display.HTML object>"
      ]
     },
     "metadata": {},
     "output_type": "display_data"
    }
   ],
   "source": [
    "import pandas as pd\n",
    "import numpy as np\n",
    "import seaborn as sns\n",
    "import matplotlib.pyplot as plt\n",
    "from IPython.core.display import display, HTML, clear_output\n",
    "display(HTML('<style>.container { width:90% !important; }</style>'))\n",
    "display(HTML('<style>.prompt { min-width:10ex !important; }</style>'))\n",
    "display(HTML('<style>div#notebook { font-size:12px !important; }</style>'))\n",
    "pd.set_option('display.max_columns', None)"
   ]
  },
  {
   "cell_type": "code",
   "execution_count": 333,
   "id": "37887921",
   "metadata": {},
   "outputs": [],
   "source": [
    "df = pd.read_excel('C:/Users/User/Downloads/Тестовое задание.xlsx')"
   ]
  },
  {
   "cell_type": "code",
   "execution_count": 334,
   "id": "1c80c7c4",
   "metadata": {},
   "outputs": [],
   "source": [
    "df.columns = ['name','place','confirm_date','health','job_type','type_test','include_date']"
   ]
  },
  {
   "cell_type": "markdown",
   "id": "c09cf4ff",
   "metadata": {},
   "source": [
    "#### Предобработка"
   ]
  },
  {
   "cell_type": "code",
   "execution_count": 335,
   "id": "a9c8c058",
   "metadata": {},
   "outputs": [
    {
     "data": {
      "text/plain": [
       "name            2637\n",
       "place           2637\n",
       "confirm_date    2637\n",
       "health          2637\n",
       "job_type        2637\n",
       "type_test       2637\n",
       "include_date    2637\n",
       "dtype: int64"
      ]
     },
     "execution_count": 335,
     "metadata": {},
     "output_type": "execute_result"
    }
   ],
   "source": [
    "df.isna().sum()\n",
    "#2637 пустых значений, не будем их учитывать в df"
   ]
  },
  {
   "cell_type": "code",
   "execution_count": 336,
   "id": "4ab6acf7",
   "metadata": {},
   "outputs": [],
   "source": [
    "df = df.dropna()"
   ]
  },
  {
   "cell_type": "code",
   "execution_count": 337,
   "id": "23a785e4",
   "metadata": {},
   "outputs": [],
   "source": [
    "df = df.reset_index(drop = True)"
   ]
  },
  {
   "cell_type": "code",
   "execution_count": 338,
   "id": "58d0248a",
   "metadata": {},
   "outputs": [
    {
     "data": {
      "text/plain": [
       "name                    object\n",
       "place                   object\n",
       "confirm_date    datetime64[ns]\n",
       "health                 float64\n",
       "job_type               float64\n",
       "type_test              float64\n",
       "include_date    datetime64[ns]\n",
       "dtype: object"
      ]
     },
     "execution_count": 338,
     "metadata": {},
     "output_type": "execute_result"
    }
   ],
   "source": [
    "df.dtypes\n",
    "#типы в норме"
   ]
  },
  {
   "cell_type": "code",
   "execution_count": 339,
   "id": "ef937600",
   "metadata": {},
   "outputs": [
    {
     "data": {
      "text/plain": [
       "Сотрудник 666    6\n",
       "Сотрудник 555    5\n",
       "Сотрудник 444    4\n",
       "Сотрудник 333    3\n",
       "Сотрудник 222    2\n",
       "                ..\n",
       "Сотрудник 229    1\n",
       "Сотрудник 230    1\n",
       "Сотрудник 231    1\n",
       "Сотрудник 232    1\n",
       "Сотрудник 680    1\n",
       "Name: name, Length: 680, dtype: int64"
      ]
     },
     "metadata": {},
     "output_type": "display_data"
    },
    {
     "data": {
      "text/plain": [
       "Место2    385\n",
       "Место1    187\n",
       "Место3    122\n",
       "Место4      1\n",
       "Name: place, dtype: int64"
      ]
     },
     "metadata": {},
     "output_type": "display_data"
    },
    {
     "data": {
      "text/plain": [
       "2020-06-08    52\n",
       "2020-06-22    48\n",
       "2020-06-19    41\n",
       "2020-06-18    38\n",
       "2020-06-14    32\n",
       "2020-06-21    30\n",
       "2020-06-20    30\n",
       "2020-06-15    29\n",
       "2020-06-25    27\n",
       "2020-06-10    26\n",
       "2020-06-03    25\n",
       "2020-06-04    24\n",
       "2020-06-05    23\n",
       "2020-06-16    23\n",
       "2020-06-01    23\n",
       "2020-06-23    22\n",
       "2020-06-24    21\n",
       "2020-06-17    20\n",
       "2020-06-09    20\n",
       "2020-06-11    18\n",
       "2020-06-07    18\n",
       "2020-06-13    16\n",
       "2020-05-30    14\n",
       "2020-06-06    14\n",
       "2020-06-02    13\n",
       "2020-05-31    10\n",
       "2020-06-26    10\n",
       "2020-06-12     8\n",
       "2020-05-29     5\n",
       "2020-06-29     5\n",
       "2020-06-28     5\n",
       "2020-06-27     3\n",
       "2020-05-28     1\n",
       "2020-05-25     1\n",
       "Name: confirm_date, dtype: int64"
      ]
     },
     "metadata": {},
     "output_type": "display_data"
    },
    {
     "data": {
      "text/plain": [
       "0.0    507\n",
       "1.0    187\n",
       "2.0      1\n",
       "Name: health, dtype: int64"
      ]
     },
     "metadata": {},
     "output_type": "display_data"
    },
    {
     "data": {
      "text/plain": [
       "2.0    575\n",
       "1.0    120\n",
       "Name: job_type, dtype: int64"
      ]
     },
     "metadata": {},
     "output_type": "display_data"
    },
    {
     "data": {
      "text/plain": [
       "1.0    380\n",
       "3.0    224\n",
       "2.0     91\n",
       "Name: type_test, dtype: int64"
      ]
     },
     "metadata": {},
     "output_type": "display_data"
    },
    {
     "data": {
      "text/plain": [
       "2020-06-17    54\n",
       "2020-06-10    48\n",
       "2020-06-24    46\n",
       "2020-06-25    43\n",
       "2020-06-09    39\n",
       "2020-06-23    38\n",
       "2020-06-20    37\n",
       "2020-06-16    34\n",
       "2020-06-21    32\n",
       "2020-06-03    28\n",
       "2020-06-05    27\n",
       "2020-06-19    27\n",
       "2020-06-27    24\n",
       "2020-06-13    21\n",
       "2020-06-12    20\n",
       "2020-06-06    20\n",
       "2020-06-07    19\n",
       "2020-06-02    18\n",
       "2020-06-26    17\n",
       "2020-06-28    16\n",
       "2020-06-11    16\n",
       "2020-06-30    14\n",
       "2020-06-18    13\n",
       "2020-06-04    13\n",
       "2020-06-14     8\n",
       "2020-06-01     7\n",
       "2020-06-29     6\n",
       "2020-06-15     5\n",
       "2020-06-22     3\n",
       "2020-06-08     2\n",
       "Name: include_date, dtype: int64"
      ]
     },
     "metadata": {},
     "output_type": "display_data"
    }
   ],
   "source": [
    "for i in list(df.columns):\n",
    "    display(df[i].value_counts())"
   ]
  },
  {
   "cell_type": "code",
   "execution_count": 340,
   "id": "b7bd455c",
   "metadata": {},
   "outputs": [
    {
     "data": {
      "text/html": [
       "<div>\n",
       "<style scoped>\n",
       "    .dataframe tbody tr th:only-of-type {\n",
       "        vertical-align: middle;\n",
       "    }\n",
       "\n",
       "    .dataframe tbody tr th {\n",
       "        vertical-align: top;\n",
       "    }\n",
       "\n",
       "    .dataframe thead th {\n",
       "        text-align: right;\n",
       "    }\n",
       "</style>\n",
       "<table border=\"1\" class=\"dataframe\">\n",
       "  <thead>\n",
       "    <tr style=\"text-align: right;\">\n",
       "      <th></th>\n",
       "      <th>name</th>\n",
       "      <th>place</th>\n",
       "      <th>confirm_date</th>\n",
       "      <th>health</th>\n",
       "      <th>job_type</th>\n",
       "      <th>type_test</th>\n",
       "      <th>include_date</th>\n",
       "    </tr>\n",
       "  </thead>\n",
       "  <tbody>\n",
       "    <tr>\n",
       "      <th>0</th>\n",
       "      <td>Сотрудник 1</td>\n",
       "      <td>Место1</td>\n",
       "      <td>2020-05-30</td>\n",
       "      <td>1.0</td>\n",
       "      <td>2.0</td>\n",
       "      <td>1.0</td>\n",
       "      <td>2020-06-01</td>\n",
       "    </tr>\n",
       "    <tr>\n",
       "      <th>1</th>\n",
       "      <td>Сотрудник 2</td>\n",
       "      <td>Место1</td>\n",
       "      <td>2020-05-30</td>\n",
       "      <td>1.0</td>\n",
       "      <td>2.0</td>\n",
       "      <td>1.0</td>\n",
       "      <td>2020-06-01</td>\n",
       "    </tr>\n",
       "    <tr>\n",
       "      <th>2</th>\n",
       "      <td>Сотрудник 3</td>\n",
       "      <td>Место2</td>\n",
       "      <td>2020-05-30</td>\n",
       "      <td>1.0</td>\n",
       "      <td>1.0</td>\n",
       "      <td>1.0</td>\n",
       "      <td>2020-06-01</td>\n",
       "    </tr>\n",
       "    <tr>\n",
       "      <th>3</th>\n",
       "      <td>Сотрудник 4</td>\n",
       "      <td>Место3</td>\n",
       "      <td>2020-05-31</td>\n",
       "      <td>1.0</td>\n",
       "      <td>2.0</td>\n",
       "      <td>1.0</td>\n",
       "      <td>2020-06-01</td>\n",
       "    </tr>\n",
       "    <tr>\n",
       "      <th>4</th>\n",
       "      <td>Сотрудник 5</td>\n",
       "      <td>Место2</td>\n",
       "      <td>2020-05-30</td>\n",
       "      <td>1.0</td>\n",
       "      <td>2.0</td>\n",
       "      <td>2.0</td>\n",
       "      <td>2020-06-01</td>\n",
       "    </tr>\n",
       "  </tbody>\n",
       "</table>\n",
       "</div>"
      ],
      "text/plain": [
       "          name   place confirm_date  health  job_type  type_test include_date\n",
       "0  Сотрудник 1  Место1   2020-05-30     1.0       2.0        1.0   2020-06-01\n",
       "1  Сотрудник 2  Место1   2020-05-30     1.0       2.0        1.0   2020-06-01\n",
       "2  Сотрудник 3  Место2   2020-05-30     1.0       1.0        1.0   2020-06-01\n",
       "3  Сотрудник 4  Место3   2020-05-31     1.0       2.0        1.0   2020-06-01\n",
       "4  Сотрудник 5  Место2   2020-05-30     1.0       2.0        2.0   2020-06-01"
      ]
     },
     "execution_count": 340,
     "metadata": {},
     "output_type": "execute_result"
    }
   ],
   "source": [
    "df.head()"
   ]
  },
  {
   "cell_type": "markdown",
   "id": "f184429d",
   "metadata": {},
   "source": [
    "#### 1 Задание"
   ]
  },
  {
   "cell_type": "markdown",
   "id": "225c6c5d",
   "metadata": {},
   "source": [
    "Посчитать общее количество заболевших в таблице за всё время (выздоровевшие – это переболевшие)"
   ]
  },
  {
   "cell_type": "code",
   "execution_count": 506,
   "id": "ec2a8660",
   "metadata": {},
   "outputs": [
    {
     "data": {
      "text/plain": [
       "(695, 8)"
      ]
     },
     "execution_count": 506,
     "metadata": {},
     "output_type": "execute_result"
    }
   ],
   "source": [
    "df.shape\n",
    "#всего 695 наблюдений, соответственно, количество заболевших за все время - 695"
   ]
  },
  {
   "cell_type": "code",
   "execution_count": 341,
   "id": "6fddf910",
   "metadata": {},
   "outputs": [
    {
     "data": {
      "text/plain": [
       "507"
      ]
     },
     "execution_count": 341,
     "metadata": {},
     "output_type": "execute_result"
    }
   ],
   "source": [
    "df[df['health'] == 0]['name'].count()\n",
    "#может быть такое, что человек болел 2 раза, поэтому нам нужно для начала вывести уникальных пользователей"
   ]
  },
  {
   "cell_type": "code",
   "execution_count": 342,
   "id": "94368359",
   "metadata": {},
   "outputs": [
    {
     "data": {
      "text/plain": [
       "0.0    507\n",
       "1.0    187\n",
       "2.0      1\n",
       "Name: health, dtype: int64"
      ]
     },
     "execution_count": 342,
     "metadata": {},
     "output_type": "execute_result"
    }
   ],
   "source": [
    "df['health'].value_counts()\n",
    "#на момент подтверждения информации по COVID-19 - 507 человек больны, 187 - выздоровели, 1 - погиб"
   ]
  },
  {
   "cell_type": "markdown",
   "id": "5ee557ad",
   "metadata": {},
   "source": [
    "#### 2 Задание"
   ]
  },
  {
   "cell_type": "markdown",
   "id": "58761884",
   "metadata": {},
   "source": [
    "Сделать разбивку по количеству случаев в каждом Месте (столбец B)"
   ]
  },
  {
   "cell_type": "code",
   "execution_count": 344,
   "id": "acb7ea5b",
   "metadata": {},
   "outputs": [
    {
     "data": {
      "text/html": [
       "<div>\n",
       "<style scoped>\n",
       "    .dataframe tbody tr th:only-of-type {\n",
       "        vertical-align: middle;\n",
       "    }\n",
       "\n",
       "    .dataframe tbody tr th {\n",
       "        vertical-align: top;\n",
       "    }\n",
       "\n",
       "    .dataframe thead th {\n",
       "        text-align: right;\n",
       "    }\n",
       "</style>\n",
       "<table border=\"1\" class=\"dataframe\">\n",
       "  <thead>\n",
       "    <tr style=\"text-align: right;\">\n",
       "      <th></th>\n",
       "      <th>place</th>\n",
       "      <th>health</th>\n",
       "    </tr>\n",
       "  </thead>\n",
       "  <tbody>\n",
       "    <tr>\n",
       "      <th>0</th>\n",
       "      <td>Место1</td>\n",
       "      <td>187</td>\n",
       "    </tr>\n",
       "    <tr>\n",
       "      <th>1</th>\n",
       "      <td>Место2</td>\n",
       "      <td>385</td>\n",
       "    </tr>\n",
       "    <tr>\n",
       "      <th>2</th>\n",
       "      <td>Место3</td>\n",
       "      <td>122</td>\n",
       "    </tr>\n",
       "    <tr>\n",
       "      <th>3</th>\n",
       "      <td>Место4</td>\n",
       "      <td>1</td>\n",
       "    </tr>\n",
       "  </tbody>\n",
       "</table>\n",
       "</div>"
      ],
      "text/plain": [
       "    place  health\n",
       "0  Место1     187\n",
       "1  Место2     385\n",
       "2  Место3     122\n",
       "3  Место4       1"
      ]
     },
     "execution_count": 344,
     "metadata": {},
     "output_type": "execute_result"
    }
   ],
   "source": [
    "df.groupby('place')['health'].count().reset_index()\n",
    "#количество случаев, связанных с изменением места (это может быть отчет по 0 или 1 состоянию здоровья)"
   ]
  },
  {
   "cell_type": "code",
   "execution_count": 345,
   "id": "276987a9",
   "metadata": {},
   "outputs": [
    {
     "data": {
      "text/html": [
       "<div>\n",
       "<style scoped>\n",
       "    .dataframe tbody tr th:only-of-type {\n",
       "        vertical-align: middle;\n",
       "    }\n",
       "\n",
       "    .dataframe tbody tr th {\n",
       "        vertical-align: top;\n",
       "    }\n",
       "\n",
       "    .dataframe thead th {\n",
       "        text-align: right;\n",
       "    }\n",
       "</style>\n",
       "<table border=\"1\" class=\"dataframe\">\n",
       "  <thead>\n",
       "    <tr style=\"text-align: right;\">\n",
       "      <th></th>\n",
       "      <th>place</th>\n",
       "      <th>health</th>\n",
       "    </tr>\n",
       "  </thead>\n",
       "  <tbody>\n",
       "    <tr>\n",
       "      <th>0</th>\n",
       "      <td>Место1</td>\n",
       "      <td>125</td>\n",
       "    </tr>\n",
       "    <tr>\n",
       "      <th>1</th>\n",
       "      <td>Место2</td>\n",
       "      <td>279</td>\n",
       "    </tr>\n",
       "    <tr>\n",
       "      <th>2</th>\n",
       "      <td>Место3</td>\n",
       "      <td>102</td>\n",
       "    </tr>\n",
       "    <tr>\n",
       "      <th>3</th>\n",
       "      <td>Место4</td>\n",
       "      <td>1</td>\n",
       "    </tr>\n",
       "  </tbody>\n",
       "</table>\n",
       "</div>"
      ],
      "text/plain": [
       "    place  health\n",
       "0  Место1     125\n",
       "1  Место2     279\n",
       "2  Место3     102\n",
       "3  Место4       1"
      ]
     },
     "execution_count": 345,
     "metadata": {},
     "output_type": "execute_result"
    }
   ],
   "source": [
    "df[df['health'] == 0].groupby('place')['health'].count().reset_index()\n",
    "#количество обнаружения COVID-19 в определенных местах"
   ]
  },
  {
   "cell_type": "markdown",
   "id": "5f4740fc",
   "metadata": {},
   "source": [
    "#### Вывод\n",
    "1. Наибольшее возникновение новых случаев COVID-19 в `Место2`\n",
    "2. В `Место4` обнаружен только 1 случай\n",
    "3. Можно сделать предположение о том, что в `Место2` меньше уделено внимание здоровью персонала, обработке помещений (при учете, что количество сотрудников в `place` одинаково)"
   ]
  },
  {
   "cell_type": "markdown",
   "id": "7c2e2548",
   "metadata": {},
   "source": [
    "#### 3 Задание"
   ]
  },
  {
   "cell_type": "markdown",
   "id": "3d9d18e0",
   "metadata": {},
   "source": [
    "Рассчитать ежедневную динамику случаев в каждом Месте и в общем (показать на графике)"
   ]
  },
  {
   "cell_type": "markdown",
   "id": "7a945544",
   "metadata": {},
   "source": [
    "1. Динамика в общем"
   ]
  },
  {
   "cell_type": "code",
   "execution_count": 346,
   "id": "44c35dcc",
   "metadata": {},
   "outputs": [],
   "source": [
    "covid_all_dynamics = df[df['health'] == 0].groupby('confirm_date')['health'].count().reset_index()"
   ]
  },
  {
   "cell_type": "code",
   "execution_count": 517,
   "id": "e7686344",
   "metadata": {
    "scrolled": false
   },
   "outputs": [
    {
     "data": {
      "image/png": "[encoded data removed]",
      "text/plain": [
       "<Figure size 1440x720 with 1 Axes>"
      ]
     },
     "metadata": {},
     "output_type": "display_data"
    }
   ],
   "source": [
    "plt.figure(figsize = (20,10))\n",
    "sns.set_style(\"darkgrid\")\n",
    "sns.lineplot(x = covid_all_dynamics['confirm_date'], y = covid_all_dynamics['health'], data = covid_all_dynamics)\n",
    "plt.xlabel('Дата подтверждения COVID-19')\n",
    "plt.ylabel('Количество случаев');"
   ]
  },
  {
   "cell_type": "markdown",
   "id": "7ca79a06",
   "metadata": {},
   "source": [
    "2. Динамика в каждом месте"
   ]
  },
  {
   "cell_type": "code",
   "execution_count": 348,
   "id": "005d281a",
   "metadata": {},
   "outputs": [
    {
     "data": {
      "text/html": [
       "<div>\n",
       "<style scoped>\n",
       "    .dataframe tbody tr th:only-of-type {\n",
       "        vertical-align: middle;\n",
       "    }\n",
       "\n",
       "    .dataframe tbody tr th {\n",
       "        vertical-align: top;\n",
       "    }\n",
       "\n",
       "    .dataframe thead th {\n",
       "        text-align: right;\n",
       "    }\n",
       "</style>\n",
       "<table border=\"1\" class=\"dataframe\">\n",
       "  <thead>\n",
       "    <tr style=\"text-align: right;\">\n",
       "      <th></th>\n",
       "      <th>name</th>\n",
       "      <th>place</th>\n",
       "      <th>confirm_date</th>\n",
       "      <th>health</th>\n",
       "      <th>job_type</th>\n",
       "      <th>type_test</th>\n",
       "      <th>include_date</th>\n",
       "    </tr>\n",
       "  </thead>\n",
       "  <tbody>\n",
       "    <tr>\n",
       "      <th>0</th>\n",
       "      <td>Сотрудник 1</td>\n",
       "      <td>Место1</td>\n",
       "      <td>2020-05-30</td>\n",
       "      <td>1.0</td>\n",
       "      <td>2.0</td>\n",
       "      <td>1.0</td>\n",
       "      <td>2020-06-01</td>\n",
       "    </tr>\n",
       "    <tr>\n",
       "      <th>1</th>\n",
       "      <td>Сотрудник 2</td>\n",
       "      <td>Место1</td>\n",
       "      <td>2020-05-30</td>\n",
       "      <td>1.0</td>\n",
       "      <td>2.0</td>\n",
       "      <td>1.0</td>\n",
       "      <td>2020-06-01</td>\n",
       "    </tr>\n",
       "    <tr>\n",
       "      <th>2</th>\n",
       "      <td>Сотрудник 3</td>\n",
       "      <td>Место2</td>\n",
       "      <td>2020-05-30</td>\n",
       "      <td>1.0</td>\n",
       "      <td>1.0</td>\n",
       "      <td>1.0</td>\n",
       "      <td>2020-06-01</td>\n",
       "    </tr>\n",
       "    <tr>\n",
       "      <th>3</th>\n",
       "      <td>Сотрудник 4</td>\n",
       "      <td>Место3</td>\n",
       "      <td>2020-05-31</td>\n",
       "      <td>1.0</td>\n",
       "      <td>2.0</td>\n",
       "      <td>1.0</td>\n",
       "      <td>2020-06-01</td>\n",
       "    </tr>\n",
       "    <tr>\n",
       "      <th>4</th>\n",
       "      <td>Сотрудник 5</td>\n",
       "      <td>Место2</td>\n",
       "      <td>2020-05-30</td>\n",
       "      <td>1.0</td>\n",
       "      <td>2.0</td>\n",
       "      <td>2.0</td>\n",
       "      <td>2020-06-01</td>\n",
       "    </tr>\n",
       "  </tbody>\n",
       "</table>\n",
       "</div>"
      ],
      "text/plain": [
       "          name   place confirm_date  health  job_type  type_test include_date\n",
       "0  Сотрудник 1  Место1   2020-05-30     1.0       2.0        1.0   2020-06-01\n",
       "1  Сотрудник 2  Место1   2020-05-30     1.0       2.0        1.0   2020-06-01\n",
       "2  Сотрудник 3  Место2   2020-05-30     1.0       1.0        1.0   2020-06-01\n",
       "3  Сотрудник 4  Место3   2020-05-31     1.0       2.0        1.0   2020-06-01\n",
       "4  Сотрудник 5  Место2   2020-05-30     1.0       2.0        2.0   2020-06-01"
      ]
     },
     "execution_count": 348,
     "metadata": {},
     "output_type": "execute_result"
    }
   ],
   "source": [
    "df.head()"
   ]
  },
  {
   "cell_type": "code",
   "execution_count": 510,
   "id": "bcc3f434",
   "metadata": {},
   "outputs": [],
   "source": [
    "covid_place_dynamics = df[df['health'] == 0].groupby(['confirm_date','place'])['health'].count().reset_index()"
   ]
  },
  {
   "cell_type": "markdown",
   "id": "4b5b1e4e",
   "metadata": {},
   "source": [
    "#### По местам на одном графике"
   ]
  },
  {
   "cell_type": "code",
   "execution_count": 511,
   "id": "eee3e918",
   "metadata": {},
   "outputs": [
    {
     "data": {
      "image/png": "[encoded data removed]",
      "text/plain": [
       "<Figure size 1440x720 with 1 Axes>"
      ]
     },
     "metadata": {},
     "output_type": "display_data"
    }
   ],
   "source": [
    "#информация на одном графике\n",
    "plt.figure(figsize = (20,10))\n",
    "sns.set_style(\"darkgrid\")\n",
    "sns.lineplot(x = covid_place_dynamics['confirm_date'], y = covid_place_dynamics['health'], data = covid_place_dynamics, hue = covid_place_dynamics['place'])\n",
    "plt.xlabel('Дата подтверждения COVID-19')\n",
    "plt.ylabel('Количество случаев');"
   ]
  },
  {
   "cell_type": "code",
   "execution_count": 522,
   "id": "63e50eb3",
   "metadata": {},
   "outputs": [
    {
     "data": {
      "text/plain": [
       "place\n",
       "Место1    24\n",
       "Место2    27\n",
       "Место3    12\n",
       "Место4     1\n",
       "Name: health, dtype: int64"
      ]
     },
     "execution_count": 522,
     "metadata": {},
     "output_type": "execute_result"
    }
   ],
   "source": [
    "covid_place_dynamics.groupby('place')['health'].max()"
   ]
  },
  {
   "cell_type": "markdown",
   "id": "82c29ec9",
   "metadata": {},
   "source": [
    "#### По местам на разных графиках"
   ]
  },
  {
   "cell_type": "markdown",
   "id": "6d58a4de",
   "metadata": {},
   "source": [
    "1. Место 1"
   ]
  },
  {
   "cell_type": "code",
   "execution_count": 550,
   "id": "9c0f67de",
   "metadata": {
    "scrolled": true
   },
   "outputs": [
    {
     "data": {
      "image/png": "[encoded data removed]",
      "text/plain": [
       "<Figure size 432x288 with 1 Axes>"
      ]
     },
     "metadata": {},
     "output_type": "display_data"
    }
   ],
   "source": [
    "covid_place_dynamics[covid_place_dynamics['place'] == 'Место1'].plot('confirm_date','health')\n",
    "plt.title('Место 1')\n",
    "plt.xlabel('Дата подтверждения COVID-19')\n",
    "plt.ylabel('Количество случаев');"
   ]
  },
  {
   "cell_type": "markdown",
   "id": "568269c0",
   "metadata": {},
   "source": [
    "2. Место 2"
   ]
  },
  {
   "cell_type": "code",
   "execution_count": 547,
   "id": "6372386b",
   "metadata": {},
   "outputs": [
    {
     "data": {
      "image/png": "[encoded data removed]",
      "text/plain": [
       "<Figure size 432x288 with 1 Axes>"
      ]
     },
     "metadata": {},
     "output_type": "display_data"
    }
   ],
   "source": [
    "covid_place_dynamics[covid_place_dynamics['place'] == 'Место2'].plot('confirm_date','health')\n",
    "plt.title('Место 2')\n",
    "plt.xlabel('Дата подтверждения COVID-19')\n",
    "plt.ylabel('Количество случаев');"
   ]
  },
  {
   "cell_type": "markdown",
   "id": "3b4fa293",
   "metadata": {},
   "source": [
    "3. Место 3"
   ]
  },
  {
   "cell_type": "code",
   "execution_count": 548,
   "id": "5cf9448f",
   "metadata": {},
   "outputs": [
    {
     "data": {
      "image/png": "[encoded data removed]",
      "text/plain": [
       "<Figure size 432x288 with 1 Axes>"
      ]
     },
     "metadata": {},
     "output_type": "display_data"
    }
   ],
   "source": [
    "covid_place_dynamics[covid_place_dynamics['place'] == 'Место3'].plot('confirm_date','health')\n",
    "plt.title('Место 3')\n",
    "plt.xlabel('Дата подтверждения COVID-19')\n",
    "plt.ylabel('Количество случаев');"
   ]
  },
  {
   "cell_type": "markdown",
   "id": "82f733c4",
   "metadata": {},
   "source": [
    "4. Место 4"
   ]
  },
  {
   "cell_type": "code",
   "execution_count": 549,
   "id": "8c47617a",
   "metadata": {},
   "outputs": [
    {
     "data": {
      "image/png": "[encoded data removed]",
      "text/plain": [
       "<Figure size 432x288 with 1 Axes>"
      ]
     },
     "metadata": {},
     "output_type": "display_data"
    }
   ],
   "source": [
    "covid_place_dynamics[covid_place_dynamics['place'] == 'Место4'].plot('confirm_date','health')\n",
    "plt.title('Место 4')\n",
    "plt.xlabel('Дата подтверждения COVID-19')\n",
    "plt.ylabel('Количество случаев');"
   ]
  },
  {
   "cell_type": "markdown",
   "id": "a510133c",
   "metadata": {},
   "source": [
    "#### Вывод\n",
    "1. Наибольшее количество подтверждения COVID-19 можно увидеть в `Место2`, почти всё время находится выше остальных графиков (по y)\n",
    "2. Место4 - самое низкочастотное по количеству случаев возникновения\n",
    "3. Максимальные значения возникновения COVID-19 для `Место1` - `24`, `Место2` - `27`, `Место3` - `12`, `Место4` - `1`\n",
    "4. Локальные максимумы ближе к концу рассматриваемого периода начали снижаться\n",
    "5. В `Место1` график смещен вправо, что говорит об изменениях с середины июня, `Место2` несколько раз пересекает максимумы других `place`.\n",
    "6. "
   ]
  },
  {
   "cell_type": "markdown",
   "id": "60609109",
   "metadata": {},
   "source": [
    "#### 4 Задание"
   ]
  },
  {
   "cell_type": "markdown",
   "id": "0b4aed56",
   "metadata": {},
   "source": [
    "Рассчитать ежедневный прирост новых случаев"
   ]
  },
  {
   "cell_type": "markdown",
   "id": "ac372335",
   "metadata": {},
   "source": [
    "Посчитаю для каждого болеющего пользователя количество случаев, сгрупированных по датам и найду следующее значение по количеству болеющих пользователей на следующий день"
   ]
  },
  {
   "cell_type": "code",
   "execution_count": 500,
   "id": "801eadb9",
   "metadata": {},
   "outputs": [],
   "source": [
    "df_health_date = df[df['health'] == 0 ].groupby('confirm_date')['health'].count().reset_index()\n",
    "df_health_date['next_health'] = df_health_date['health'].shift(-1)"
   ]
  },
  {
   "cell_type": "code",
   "execution_count": 501,
   "id": "dd285626",
   "metadata": {},
   "outputs": [],
   "source": [
    "df_health_date['growth'] = df_health_date['next_health'] - df_health_date['health']"
   ]
  },
  {
   "cell_type": "markdown",
   "id": "327b2bc2",
   "metadata": {},
   "source": [
    "Ежедневный прирост новых случаев COVID-19\n",
    "* Красная линия - `максимум`\n",
    "* Черная линия - `среднее значение`\n",
    "* Зеленая линия - `минимум`"
   ]
  },
  {
   "cell_type": "code",
   "execution_count": 502,
   "id": "f8a09441",
   "metadata": {},
   "outputs": [
    {
     "data": {
      "image/png": "[encoded data removed]",
      "text/plain": [
       "<Figure size 1440x720 with 1 Axes>"
      ]
     },
     "metadata": {},
     "output_type": "display_data"
    }
   ],
   "source": [
    "plt.figure(figsize = (20,10))\n",
    "graph = sns.lineplot(x = df_health_date['confirm_date'], y = df_health_date['growth'], data = df_health_date)\n",
    "graph.axhline(df_health_date['growth'].mean(), color = 'black')\n",
    "graph.axhline(df_health_date['growth'].max(), color = 'red')\n",
    "graph.axhline(df_health_date['growth'].min(), color = 'green')\n",
    "plt.title('Ежедневный прирост новых случаев COVID-19')\n",
    "plt.xlabel('Дата подтверждения COVID-19')\n",
    "plt.ylabel('Прирост');\n",
    "plt.show()"
   ]
  },
  {
   "cell_type": "code",
   "execution_count": 493,
   "id": "95570a19",
   "metadata": {},
   "outputs": [
    {
     "data": {
      "text/html": [
       "<div>\n",
       "<style scoped>\n",
       "    .dataframe tbody tr th:only-of-type {\n",
       "        vertical-align: middle;\n",
       "    }\n",
       "\n",
       "    .dataframe tbody tr th {\n",
       "        vertical-align: top;\n",
       "    }\n",
       "\n",
       "    .dataframe thead th {\n",
       "        text-align: right;\n",
       "    }\n",
       "</style>\n",
       "<table border=\"1\" class=\"dataframe\">\n",
       "  <thead>\n",
       "    <tr style=\"text-align: right;\">\n",
       "      <th></th>\n",
       "      <th>confirm_date</th>\n",
       "      <th>health</th>\n",
       "      <th>next_health</th>\n",
       "      <th>growth</th>\n",
       "    </tr>\n",
       "  </thead>\n",
       "  <tbody>\n",
       "    <tr>\n",
       "      <th>0</th>\n",
       "      <td>2020-05-28</td>\n",
       "      <td>1</td>\n",
       "      <td>3.0</td>\n",
       "      <td>2.0</td>\n",
       "    </tr>\n",
       "    <tr>\n",
       "      <th>1</th>\n",
       "      <td>2020-06-04</td>\n",
       "      <td>3</td>\n",
       "      <td>2.0</td>\n",
       "      <td>-1.0</td>\n",
       "    </tr>\n",
       "    <tr>\n",
       "      <th>2</th>\n",
       "      <td>2020-06-05</td>\n",
       "      <td>2</td>\n",
       "      <td>2.0</td>\n",
       "      <td>0.0</td>\n",
       "    </tr>\n",
       "    <tr>\n",
       "      <th>3</th>\n",
       "      <td>2020-06-06</td>\n",
       "      <td>2</td>\n",
       "      <td>2.0</td>\n",
       "      <td>0.0</td>\n",
       "    </tr>\n",
       "    <tr>\n",
       "      <th>4</th>\n",
       "      <td>2020-06-07</td>\n",
       "      <td>2</td>\n",
       "      <td>31.0</td>\n",
       "      <td>29.0</td>\n",
       "    </tr>\n",
       "    <tr>\n",
       "      <th>5</th>\n",
       "      <td>2020-06-08</td>\n",
       "      <td>31</td>\n",
       "      <td>16.0</td>\n",
       "      <td>-15.0</td>\n",
       "    </tr>\n",
       "    <tr>\n",
       "      <th>6</th>\n",
       "      <td>2020-06-09</td>\n",
       "      <td>16</td>\n",
       "      <td>24.0</td>\n",
       "      <td>8.0</td>\n",
       "    </tr>\n",
       "    <tr>\n",
       "      <th>7</th>\n",
       "      <td>2020-06-10</td>\n",
       "      <td>24</td>\n",
       "      <td>18.0</td>\n",
       "      <td>-6.0</td>\n",
       "    </tr>\n",
       "    <tr>\n",
       "      <th>8</th>\n",
       "      <td>2020-06-11</td>\n",
       "      <td>18</td>\n",
       "      <td>8.0</td>\n",
       "      <td>-10.0</td>\n",
       "    </tr>\n",
       "    <tr>\n",
       "      <th>9</th>\n",
       "      <td>2020-06-12</td>\n",
       "      <td>8</td>\n",
       "      <td>16.0</td>\n",
       "      <td>8.0</td>\n",
       "    </tr>\n",
       "    <tr>\n",
       "      <th>10</th>\n",
       "      <td>2020-06-13</td>\n",
       "      <td>16</td>\n",
       "      <td>32.0</td>\n",
       "      <td>16.0</td>\n",
       "    </tr>\n",
       "    <tr>\n",
       "      <th>11</th>\n",
       "      <td>2020-06-14</td>\n",
       "      <td>32</td>\n",
       "      <td>29.0</td>\n",
       "      <td>-3.0</td>\n",
       "    </tr>\n",
       "    <tr>\n",
       "      <th>12</th>\n",
       "      <td>2020-06-15</td>\n",
       "      <td>29</td>\n",
       "      <td>23.0</td>\n",
       "      <td>-6.0</td>\n",
       "    </tr>\n",
       "    <tr>\n",
       "      <th>13</th>\n",
       "      <td>2020-06-16</td>\n",
       "      <td>23</td>\n",
       "      <td>20.0</td>\n",
       "      <td>-3.0</td>\n",
       "    </tr>\n",
       "    <tr>\n",
       "      <th>14</th>\n",
       "      <td>2020-06-17</td>\n",
       "      <td>20</td>\n",
       "      <td>38.0</td>\n",
       "      <td>18.0</td>\n",
       "    </tr>\n",
       "    <tr>\n",
       "      <th>15</th>\n",
       "      <td>2020-06-18</td>\n",
       "      <td>38</td>\n",
       "      <td>41.0</td>\n",
       "      <td>3.0</td>\n",
       "    </tr>\n",
       "    <tr>\n",
       "      <th>16</th>\n",
       "      <td>2020-06-19</td>\n",
       "      <td>41</td>\n",
       "      <td>30.0</td>\n",
       "      <td>-11.0</td>\n",
       "    </tr>\n",
       "    <tr>\n",
       "      <th>17</th>\n",
       "      <td>2020-06-20</td>\n",
       "      <td>30</td>\n",
       "      <td>30.0</td>\n",
       "      <td>0.0</td>\n",
       "    </tr>\n",
       "    <tr>\n",
       "      <th>18</th>\n",
       "      <td>2020-06-21</td>\n",
       "      <td>30</td>\n",
       "      <td>48.0</td>\n",
       "      <td>18.0</td>\n",
       "    </tr>\n",
       "    <tr>\n",
       "      <th>19</th>\n",
       "      <td>2020-06-22</td>\n",
       "      <td>48</td>\n",
       "      <td>22.0</td>\n",
       "      <td>-26.0</td>\n",
       "    </tr>\n",
       "    <tr>\n",
       "      <th>20</th>\n",
       "      <td>2020-06-23</td>\n",
       "      <td>22</td>\n",
       "      <td>21.0</td>\n",
       "      <td>-1.0</td>\n",
       "    </tr>\n",
       "    <tr>\n",
       "      <th>21</th>\n",
       "      <td>2020-06-24</td>\n",
       "      <td>21</td>\n",
       "      <td>27.0</td>\n",
       "      <td>6.0</td>\n",
       "    </tr>\n",
       "    <tr>\n",
       "      <th>22</th>\n",
       "      <td>2020-06-25</td>\n",
       "      <td>27</td>\n",
       "      <td>10.0</td>\n",
       "      <td>-17.0</td>\n",
       "    </tr>\n",
       "    <tr>\n",
       "      <th>23</th>\n",
       "      <td>2020-06-26</td>\n",
       "      <td>10</td>\n",
       "      <td>3.0</td>\n",
       "      <td>-7.0</td>\n",
       "    </tr>\n",
       "    <tr>\n",
       "      <th>24</th>\n",
       "      <td>2020-06-27</td>\n",
       "      <td>3</td>\n",
       "      <td>5.0</td>\n",
       "      <td>2.0</td>\n",
       "    </tr>\n",
       "    <tr>\n",
       "      <th>25</th>\n",
       "      <td>2020-06-28</td>\n",
       "      <td>5</td>\n",
       "      <td>5.0</td>\n",
       "      <td>0.0</td>\n",
       "    </tr>\n",
       "    <tr>\n",
       "      <th>26</th>\n",
       "      <td>2020-06-29</td>\n",
       "      <td>5</td>\n",
       "      <td>NaN</td>\n",
       "      <td>NaN</td>\n",
       "    </tr>\n",
       "  </tbody>\n",
       "</table>\n",
       "</div>"
      ],
      "text/plain": [
       "   confirm_date  health  next_health  growth\n",
       "0    2020-05-28       1          3.0     2.0\n",
       "1    2020-06-04       3          2.0    -1.0\n",
       "2    2020-06-05       2          2.0     0.0\n",
       "3    2020-06-06       2          2.0     0.0\n",
       "4    2020-06-07       2         31.0    29.0\n",
       "5    2020-06-08      31         16.0   -15.0\n",
       "6    2020-06-09      16         24.0     8.0\n",
       "7    2020-06-10      24         18.0    -6.0\n",
       "8    2020-06-11      18          8.0   -10.0\n",
       "9    2020-06-12       8         16.0     8.0\n",
       "10   2020-06-13      16         32.0    16.0\n",
       "11   2020-06-14      32         29.0    -3.0\n",
       "12   2020-06-15      29         23.0    -6.0\n",
       "13   2020-06-16      23         20.0    -3.0\n",
       "14   2020-06-17      20         38.0    18.0\n",
       "15   2020-06-18      38         41.0     3.0\n",
       "16   2020-06-19      41         30.0   -11.0\n",
       "17   2020-06-20      30         30.0     0.0\n",
       "18   2020-06-21      30         48.0    18.0\n",
       "19   2020-06-22      48         22.0   -26.0\n",
       "20   2020-06-23      22         21.0    -1.0\n",
       "21   2020-06-24      21         27.0     6.0\n",
       "22   2020-06-25      27         10.0   -17.0\n",
       "23   2020-06-26      10          3.0    -7.0\n",
       "24   2020-06-27       3          5.0     2.0\n",
       "25   2020-06-28       5          5.0     0.0\n",
       "26   2020-06-29       5          NaN     NaN"
      ]
     },
     "execution_count": 493,
     "metadata": {},
     "output_type": "execute_result"
    }
   ],
   "source": [
    "df_health_date"
   ]
  },
  {
   "cell_type": "markdown",
   "id": "3d0c7922",
   "metadata": {},
   "source": [
    "#### Вывод\n",
    "\n",
    "1. Максимальный прирост `2020-06-07` - `29`\n",
    "2. Минимальный прирост `2020-06-22` - `-26`\n",
    "3. Как таковой тенденции прироста нет, к концу рассматриваемого периода - прирост равен 0\n",
    "4. После `2020-06-21` локальные максимумы приростов начали уменьшаться, что говорит о замедлении прироста новых заболевших "
   ]
  },
  {
   "cell_type": "markdown",
   "id": "857a422e",
   "metadata": {},
   "source": [
    "#### 5 Задание"
   ]
  },
  {
   "cell_type": "markdown",
   "id": "fabd9502",
   "metadata": {},
   "source": [
    "Определить % выявления новых случаев по тестам на каждый день, и в среднем за месяц"
   ]
  },
  {
   "cell_type": "code",
   "execution_count": 355,
   "id": "4434b1ac",
   "metadata": {},
   "outputs": [
    {
     "data": {
      "text/plain": [
       "0.0    507\n",
       "1.0    187\n",
       "2.0      1\n",
       "Name: health, dtype: int64"
      ]
     },
     "execution_count": 355,
     "metadata": {},
     "output_type": "execute_result"
    }
   ],
   "source": [
    "df['health'].value_counts(dropna = False)"
   ]
  },
  {
   "cell_type": "markdown",
   "id": "28eb26e4",
   "metadata": {},
   "source": [
    "Создам столбец для переобозначения (если человек болеет - 1, если нет - 0, в другом случае - NaN)"
   ]
  },
  {
   "cell_type": "code",
   "execution_count": 356,
   "id": "e80b62cc",
   "metadata": {},
   "outputs": [],
   "source": [
    "df['covid'] = df['health'].apply(lambda x: 0 if x == 1 else 1 if x == 0 else np.nan)"
   ]
  },
  {
   "cell_type": "code",
   "execution_count": 363,
   "id": "ed027cb5",
   "metadata": {},
   "outputs": [],
   "source": [
    "df_covid_date = df.groupby('confirm_date')['covid'].mean().reset_index()"
   ]
  },
  {
   "cell_type": "code",
   "execution_count": 489,
   "id": "2349fc6f",
   "metadata": {},
   "outputs": [
    {
     "data": {
      "image/png": "[encoded data removed]",
      "text/plain": [
       "<Figure size 1440x720 with 1 Axes>"
      ]
     },
     "metadata": {},
     "output_type": "display_data"
    }
   ],
   "source": [
    "plt.figure(figsize = (20,10))\n",
    "sns.lineplot(data = df_covid_date ,x = df_covid_date['confirm_date'], y = df_covid_date['covid']);\n",
    "plt.xlabel('Дата подтверждения COVID-19')\n",
    "plt.ylabel('Доля обнаружения COVID-19')\n",
    "plt.title('Доля выявления новых случаев по тестам на каждый день');"
   ]
  },
  {
   "cell_type": "code",
   "execution_count": 490,
   "id": "26f0f5d1",
   "metadata": {},
   "outputs": [
    {
     "data": {
      "text/html": [
       "<div>\n",
       "<style scoped>\n",
       "    .dataframe tbody tr th:only-of-type {\n",
       "        vertical-align: middle;\n",
       "    }\n",
       "\n",
       "    .dataframe tbody tr th {\n",
       "        vertical-align: top;\n",
       "    }\n",
       "\n",
       "    .dataframe thead th {\n",
       "        text-align: right;\n",
       "    }\n",
       "</style>\n",
       "<table border=\"1\" class=\"dataframe\">\n",
       "  <thead>\n",
       "    <tr style=\"text-align: right;\">\n",
       "      <th></th>\n",
       "      <th>confirm_date</th>\n",
       "      <th>covid</th>\n",
       "    </tr>\n",
       "  </thead>\n",
       "  <tbody>\n",
       "    <tr>\n",
       "      <th>0</th>\n",
       "      <td>2020-05-25</td>\n",
       "      <td>0.000000</td>\n",
       "    </tr>\n",
       "    <tr>\n",
       "      <th>1</th>\n",
       "      <td>2020-05-28</td>\n",
       "      <td>1.000000</td>\n",
       "    </tr>\n",
       "    <tr>\n",
       "      <th>2</th>\n",
       "      <td>2020-05-29</td>\n",
       "      <td>0.000000</td>\n",
       "    </tr>\n",
       "    <tr>\n",
       "      <th>3</th>\n",
       "      <td>2020-05-30</td>\n",
       "      <td>0.000000</td>\n",
       "    </tr>\n",
       "    <tr>\n",
       "      <th>4</th>\n",
       "      <td>2020-05-31</td>\n",
       "      <td>0.000000</td>\n",
       "    </tr>\n",
       "    <tr>\n",
       "      <th>5</th>\n",
       "      <td>2020-06-01</td>\n",
       "      <td>0.000000</td>\n",
       "    </tr>\n",
       "    <tr>\n",
       "      <th>6</th>\n",
       "      <td>2020-06-02</td>\n",
       "      <td>0.000000</td>\n",
       "    </tr>\n",
       "    <tr>\n",
       "      <th>7</th>\n",
       "      <td>2020-06-03</td>\n",
       "      <td>0.000000</td>\n",
       "    </tr>\n",
       "    <tr>\n",
       "      <th>8</th>\n",
       "      <td>2020-06-04</td>\n",
       "      <td>0.125000</td>\n",
       "    </tr>\n",
       "    <tr>\n",
       "      <th>9</th>\n",
       "      <td>2020-06-05</td>\n",
       "      <td>0.086957</td>\n",
       "    </tr>\n",
       "    <tr>\n",
       "      <th>10</th>\n",
       "      <td>2020-06-06</td>\n",
       "      <td>0.142857</td>\n",
       "    </tr>\n",
       "    <tr>\n",
       "      <th>11</th>\n",
       "      <td>2020-06-07</td>\n",
       "      <td>0.111111</td>\n",
       "    </tr>\n",
       "    <tr>\n",
       "      <th>12</th>\n",
       "      <td>2020-06-08</td>\n",
       "      <td>0.596154</td>\n",
       "    </tr>\n",
       "    <tr>\n",
       "      <th>13</th>\n",
       "      <td>2020-06-09</td>\n",
       "      <td>0.800000</td>\n",
       "    </tr>\n",
       "    <tr>\n",
       "      <th>14</th>\n",
       "      <td>2020-06-10</td>\n",
       "      <td>0.923077</td>\n",
       "    </tr>\n",
       "    <tr>\n",
       "      <th>15</th>\n",
       "      <td>2020-06-11</td>\n",
       "      <td>1.000000</td>\n",
       "    </tr>\n",
       "    <tr>\n",
       "      <th>16</th>\n",
       "      <td>2020-06-12</td>\n",
       "      <td>1.000000</td>\n",
       "    </tr>\n",
       "    <tr>\n",
       "      <th>17</th>\n",
       "      <td>2020-06-13</td>\n",
       "      <td>1.000000</td>\n",
       "    </tr>\n",
       "    <tr>\n",
       "      <th>18</th>\n",
       "      <td>2020-06-14</td>\n",
       "      <td>1.000000</td>\n",
       "    </tr>\n",
       "    <tr>\n",
       "      <th>19</th>\n",
       "      <td>2020-06-15</td>\n",
       "      <td>1.000000</td>\n",
       "    </tr>\n",
       "    <tr>\n",
       "      <th>20</th>\n",
       "      <td>2020-06-16</td>\n",
       "      <td>1.000000</td>\n",
       "    </tr>\n",
       "    <tr>\n",
       "      <th>21</th>\n",
       "      <td>2020-06-17</td>\n",
       "      <td>1.000000</td>\n",
       "    </tr>\n",
       "    <tr>\n",
       "      <th>22</th>\n",
       "      <td>2020-06-18</td>\n",
       "      <td>1.000000</td>\n",
       "    </tr>\n",
       "    <tr>\n",
       "      <th>23</th>\n",
       "      <td>2020-06-19</td>\n",
       "      <td>1.000000</td>\n",
       "    </tr>\n",
       "    <tr>\n",
       "      <th>24</th>\n",
       "      <td>2020-06-20</td>\n",
       "      <td>1.000000</td>\n",
       "    </tr>\n",
       "    <tr>\n",
       "      <th>25</th>\n",
       "      <td>2020-06-21</td>\n",
       "      <td>1.000000</td>\n",
       "    </tr>\n",
       "    <tr>\n",
       "      <th>26</th>\n",
       "      <td>2020-06-22</td>\n",
       "      <td>1.000000</td>\n",
       "    </tr>\n",
       "    <tr>\n",
       "      <th>27</th>\n",
       "      <td>2020-06-23</td>\n",
       "      <td>1.000000</td>\n",
       "    </tr>\n",
       "    <tr>\n",
       "      <th>28</th>\n",
       "      <td>2020-06-24</td>\n",
       "      <td>1.000000</td>\n",
       "    </tr>\n",
       "    <tr>\n",
       "      <th>29</th>\n",
       "      <td>2020-06-25</td>\n",
       "      <td>1.000000</td>\n",
       "    </tr>\n",
       "    <tr>\n",
       "      <th>30</th>\n",
       "      <td>2020-06-26</td>\n",
       "      <td>1.000000</td>\n",
       "    </tr>\n",
       "    <tr>\n",
       "      <th>31</th>\n",
       "      <td>2020-06-27</td>\n",
       "      <td>1.000000</td>\n",
       "    </tr>\n",
       "    <tr>\n",
       "      <th>32</th>\n",
       "      <td>2020-06-28</td>\n",
       "      <td>1.000000</td>\n",
       "    </tr>\n",
       "    <tr>\n",
       "      <th>33</th>\n",
       "      <td>2020-06-29</td>\n",
       "      <td>1.000000</td>\n",
       "    </tr>\n",
       "  </tbody>\n",
       "</table>\n",
       "</div>"
      ],
      "text/plain": [
       "   confirm_date     covid\n",
       "0    2020-05-25  0.000000\n",
       "1    2020-05-28  1.000000\n",
       "2    2020-05-29  0.000000\n",
       "3    2020-05-30  0.000000\n",
       "4    2020-05-31  0.000000\n",
       "5    2020-06-01  0.000000\n",
       "6    2020-06-02  0.000000\n",
       "7    2020-06-03  0.000000\n",
       "8    2020-06-04  0.125000\n",
       "9    2020-06-05  0.086957\n",
       "10   2020-06-06  0.142857\n",
       "11   2020-06-07  0.111111\n",
       "12   2020-06-08  0.596154\n",
       "13   2020-06-09  0.800000\n",
       "14   2020-06-10  0.923077\n",
       "15   2020-06-11  1.000000\n",
       "16   2020-06-12  1.000000\n",
       "17   2020-06-13  1.000000\n",
       "18   2020-06-14  1.000000\n",
       "19   2020-06-15  1.000000\n",
       "20   2020-06-16  1.000000\n",
       "21   2020-06-17  1.000000\n",
       "22   2020-06-18  1.000000\n",
       "23   2020-06-19  1.000000\n",
       "24   2020-06-20  1.000000\n",
       "25   2020-06-21  1.000000\n",
       "26   2020-06-22  1.000000\n",
       "27   2020-06-23  1.000000\n",
       "28   2020-06-24  1.000000\n",
       "29   2020-06-25  1.000000\n",
       "30   2020-06-26  1.000000\n",
       "31   2020-06-27  1.000000\n",
       "32   2020-06-28  1.000000\n",
       "33   2020-06-29  1.000000"
      ]
     },
     "execution_count": 490,
     "metadata": {},
     "output_type": "execute_result"
    }
   ],
   "source": [
    "df_covid_date"
   ]
  },
  {
   "cell_type": "markdown",
   "id": "0a606e0a",
   "metadata": {},
   "source": [
    "#### Вывод\n",
    "1. Начиная с 2020-06-08\tдоля выявления новых случаев увеличивалась, после 2020-06-11 и до конца 2020-06-29, % выявления случаев = 100% (доля 1)\n",
    "2. В исходных данных в 2020-05-28 - доля выявления равна 1"
   ]
  },
  {
   "cell_type": "code",
   "execution_count": 384,
   "id": "dd3df1f3",
   "metadata": {},
   "outputs": [
    {
     "name": "stdout",
     "output_type": "stream",
     "text": [
      "Средний процент выявления новых случаев за все время 73.05%\n"
     ]
    }
   ],
   "source": [
    "print(f\"Средний процент выявления новых случаев за все время {round(df['covid'].mean() * 100,2)}%\")"
   ]
  },
  {
   "cell_type": "markdown",
   "id": "20da198d",
   "metadata": {},
   "source": [
    "В среднем за месяц"
   ]
  },
  {
   "cell_type": "code",
   "execution_count": 405,
   "id": "564ce7d9",
   "metadata": {},
   "outputs": [
    {
     "name": "stdout",
     "output_type": "stream",
     "text": [
      "Средний процент выявления новых случаев за последние дни мая 3.23%\n"
     ]
    }
   ],
   "source": [
    "#за май\n",
    "print(f\"Средний процент выявления новых случаев за последние дни мая {round(df[df['confirm_date'].dt.month == 5]['covid'].mean()*100,2)}%\")"
   ]
  },
  {
   "cell_type": "code",
   "execution_count": 491,
   "id": "cdb8ef9a",
   "metadata": {
    "scrolled": true
   },
   "outputs": [
    {
     "name": "stdout",
     "output_type": "stream",
     "text": [
      "Средний процент выявления новых случаев за июнь 76.32%\n"
     ]
    }
   ],
   "source": [
    "#за июнь\n",
    "print(f\"Средний процент выявления новых случаев за июнь {round(df[df['confirm_date'].dt.month == 6]['covid'].mean()*100,2)}%\")"
   ]
  },
  {
   "cell_type": "markdown",
   "id": "96033c7d",
   "metadata": {},
   "source": [
    "#### Вывод\n",
    "Средний процент выявления случаев за июнь = 76.32%, за последние дни мая = 3.23%, как мы можем заметить по тенденции значение увеличилось"
   ]
  },
  {
   "cell_type": "markdown",
   "id": "0cb10a56",
   "metadata": {},
   "source": [
    "#### 6 Задание"
   ]
  },
  {
   "cell_type": "markdown",
   "id": "540e12c5",
   "metadata": {},
   "source": [
    "Определить % выздоровевших сотрудников от общего числа заболевших (выздоровевшие – это переболевшие)"
   ]
  },
  {
   "cell_type": "code",
   "execution_count": 425,
   "id": "4ffcbe88",
   "metadata": {},
   "outputs": [
    {
     "data": {
      "text/plain": [
       "507.0"
      ]
     },
     "execution_count": 425,
     "metadata": {},
     "output_type": "execute_result"
    }
   ],
   "source": [
    "df['covid'].sum()"
   ]
  },
  {
   "cell_type": "code",
   "execution_count": 426,
   "id": "d691b399",
   "metadata": {},
   "outputs": [
    {
     "data": {
      "text/html": [
       "<div>\n",
       "<style scoped>\n",
       "    .dataframe tbody tr th:only-of-type {\n",
       "        vertical-align: middle;\n",
       "    }\n",
       "\n",
       "    .dataframe tbody tr th {\n",
       "        vertical-align: top;\n",
       "    }\n",
       "\n",
       "    .dataframe thead th {\n",
       "        text-align: right;\n",
       "    }\n",
       "</style>\n",
       "<table border=\"1\" class=\"dataframe\">\n",
       "  <thead>\n",
       "    <tr style=\"text-align: right;\">\n",
       "      <th></th>\n",
       "      <th>name</th>\n",
       "      <th>place</th>\n",
       "      <th>confirm_date</th>\n",
       "      <th>health</th>\n",
       "      <th>job_type</th>\n",
       "      <th>type_test</th>\n",
       "      <th>include_date</th>\n",
       "      <th>covid</th>\n",
       "    </tr>\n",
       "  </thead>\n",
       "  <tbody>\n",
       "    <tr>\n",
       "      <th>182</th>\n",
       "      <td>Сотрудник 183</td>\n",
       "      <td>Место1</td>\n",
       "      <td>2020-06-08</td>\n",
       "      <td>0.0</td>\n",
       "      <td>2.0</td>\n",
       "      <td>1.0</td>\n",
       "      <td>2020-06-10</td>\n",
       "      <td>1.0</td>\n",
       "    </tr>\n",
       "    <tr>\n",
       "      <th>185</th>\n",
       "      <td>Сотрудник 186</td>\n",
       "      <td>Место1</td>\n",
       "      <td>2020-06-08</td>\n",
       "      <td>0.0</td>\n",
       "      <td>2.0</td>\n",
       "      <td>1.0</td>\n",
       "      <td>2020-06-10</td>\n",
       "      <td>1.0</td>\n",
       "    </tr>\n",
       "    <tr>\n",
       "      <th>186</th>\n",
       "      <td>Сотрудник 187</td>\n",
       "      <td>Место1</td>\n",
       "      <td>2020-06-08</td>\n",
       "      <td>0.0</td>\n",
       "      <td>2.0</td>\n",
       "      <td>3.0</td>\n",
       "      <td>2020-06-10</td>\n",
       "      <td>1.0</td>\n",
       "    </tr>\n",
       "    <tr>\n",
       "      <th>187</th>\n",
       "      <td>Сотрудник 188</td>\n",
       "      <td>Место1</td>\n",
       "      <td>2020-06-07</td>\n",
       "      <td>0.0</td>\n",
       "      <td>1.0</td>\n",
       "      <td>3.0</td>\n",
       "      <td>2020-06-10</td>\n",
       "      <td>1.0</td>\n",
       "    </tr>\n",
       "    <tr>\n",
       "      <th>188</th>\n",
       "      <td>Сотрудник 189</td>\n",
       "      <td>Место1</td>\n",
       "      <td>2020-06-08</td>\n",
       "      <td>0.0</td>\n",
       "      <td>1.0</td>\n",
       "      <td>3.0</td>\n",
       "      <td>2020-06-10</td>\n",
       "      <td>1.0</td>\n",
       "    </tr>\n",
       "    <tr>\n",
       "      <th>...</th>\n",
       "      <td>...</td>\n",
       "      <td>...</td>\n",
       "      <td>...</td>\n",
       "      <td>...</td>\n",
       "      <td>...</td>\n",
       "      <td>...</td>\n",
       "      <td>...</td>\n",
       "      <td>...</td>\n",
       "    </tr>\n",
       "    <tr>\n",
       "      <th>690</th>\n",
       "      <td>Сотрудник 676</td>\n",
       "      <td>Место2</td>\n",
       "      <td>2020-06-29</td>\n",
       "      <td>0.0</td>\n",
       "      <td>2.0</td>\n",
       "      <td>3.0</td>\n",
       "      <td>2020-06-30</td>\n",
       "      <td>1.0</td>\n",
       "    </tr>\n",
       "    <tr>\n",
       "      <th>691</th>\n",
       "      <td>Сотрудник 677</td>\n",
       "      <td>Место2</td>\n",
       "      <td>2020-06-28</td>\n",
       "      <td>0.0</td>\n",
       "      <td>2.0</td>\n",
       "      <td>2.0</td>\n",
       "      <td>2020-06-30</td>\n",
       "      <td>1.0</td>\n",
       "    </tr>\n",
       "    <tr>\n",
       "      <th>692</th>\n",
       "      <td>Сотрудник 678</td>\n",
       "      <td>Место2</td>\n",
       "      <td>2020-06-27</td>\n",
       "      <td>0.0</td>\n",
       "      <td>2.0</td>\n",
       "      <td>2.0</td>\n",
       "      <td>2020-06-30</td>\n",
       "      <td>1.0</td>\n",
       "    </tr>\n",
       "    <tr>\n",
       "      <th>693</th>\n",
       "      <td>Сотрудник 679</td>\n",
       "      <td>Место2</td>\n",
       "      <td>2020-06-25</td>\n",
       "      <td>0.0</td>\n",
       "      <td>2.0</td>\n",
       "      <td>1.0</td>\n",
       "      <td>2020-06-30</td>\n",
       "      <td>1.0</td>\n",
       "    </tr>\n",
       "    <tr>\n",
       "      <th>694</th>\n",
       "      <td>Сотрудник 680</td>\n",
       "      <td>Место1</td>\n",
       "      <td>2020-06-29</td>\n",
       "      <td>0.0</td>\n",
       "      <td>2.0</td>\n",
       "      <td>1.0</td>\n",
       "      <td>2020-06-30</td>\n",
       "      <td>1.0</td>\n",
       "    </tr>\n",
       "  </tbody>\n",
       "</table>\n",
       "<p>507 rows × 8 columns</p>\n",
       "</div>"
      ],
      "text/plain": [
       "              name   place confirm_date  health  job_type  type_test  \\\n",
       "182  Сотрудник 183  Место1   2020-06-08     0.0       2.0        1.0   \n",
       "185  Сотрудник 186  Место1   2020-06-08     0.0       2.0        1.0   \n",
       "186  Сотрудник 187  Место1   2020-06-08     0.0       2.0        3.0   \n",
       "187  Сотрудник 188  Место1   2020-06-07     0.0       1.0        3.0   \n",
       "188  Сотрудник 189  Место1   2020-06-08     0.0       1.0        3.0   \n",
       "..             ...     ...          ...     ...       ...        ...   \n",
       "690  Сотрудник 676  Место2   2020-06-29     0.0       2.0        3.0   \n",
       "691  Сотрудник 677  Место2   2020-06-28     0.0       2.0        2.0   \n",
       "692  Сотрудник 678  Место2   2020-06-27     0.0       2.0        2.0   \n",
       "693  Сотрудник 679  Место2   2020-06-25     0.0       2.0        1.0   \n",
       "694  Сотрудник 680  Место1   2020-06-29     0.0       2.0        1.0   \n",
       "\n",
       "    include_date  covid  \n",
       "182   2020-06-10    1.0  \n",
       "185   2020-06-10    1.0  \n",
       "186   2020-06-10    1.0  \n",
       "187   2020-06-10    1.0  \n",
       "188   2020-06-10    1.0  \n",
       "..           ...    ...  \n",
       "690   2020-06-30    1.0  \n",
       "691   2020-06-30    1.0  \n",
       "692   2020-06-30    1.0  \n",
       "693   2020-06-30    1.0  \n",
       "694   2020-06-30    1.0  \n",
       "\n",
       "[507 rows x 8 columns]"
      ]
     },
     "execution_count": 426,
     "metadata": {},
     "output_type": "execute_result"
    }
   ],
   "source": [
    "df[df['covid'] == 1]"
   ]
  },
  {
   "cell_type": "code",
   "execution_count": 427,
   "id": "92a4a079",
   "metadata": {},
   "outputs": [
    {
     "data": {
      "text/html": [
       "<div>\n",
       "<style scoped>\n",
       "    .dataframe tbody tr th:only-of-type {\n",
       "        vertical-align: middle;\n",
       "    }\n",
       "\n",
       "    .dataframe tbody tr th {\n",
       "        vertical-align: top;\n",
       "    }\n",
       "\n",
       "    .dataframe thead th {\n",
       "        text-align: right;\n",
       "    }\n",
       "</style>\n",
       "<table border=\"1\" class=\"dataframe\">\n",
       "  <thead>\n",
       "    <tr style=\"text-align: right;\">\n",
       "      <th></th>\n",
       "      <th>name</th>\n",
       "      <th>place</th>\n",
       "      <th>confirm_date</th>\n",
       "      <th>health</th>\n",
       "      <th>job_type</th>\n",
       "      <th>type_test</th>\n",
       "      <th>include_date</th>\n",
       "      <th>covid</th>\n",
       "    </tr>\n",
       "  </thead>\n",
       "  <tbody>\n",
       "    <tr>\n",
       "      <th>0</th>\n",
       "      <td>Сотрудник 1</td>\n",
       "      <td>Место1</td>\n",
       "      <td>2020-05-30</td>\n",
       "      <td>1.0</td>\n",
       "      <td>2.0</td>\n",
       "      <td>1.0</td>\n",
       "      <td>2020-06-01</td>\n",
       "      <td>0.0</td>\n",
       "    </tr>\n",
       "    <tr>\n",
       "      <th>1</th>\n",
       "      <td>Сотрудник 2</td>\n",
       "      <td>Место1</td>\n",
       "      <td>2020-05-30</td>\n",
       "      <td>1.0</td>\n",
       "      <td>2.0</td>\n",
       "      <td>1.0</td>\n",
       "      <td>2020-06-01</td>\n",
       "      <td>0.0</td>\n",
       "    </tr>\n",
       "    <tr>\n",
       "      <th>2</th>\n",
       "      <td>Сотрудник 3</td>\n",
       "      <td>Место2</td>\n",
       "      <td>2020-05-30</td>\n",
       "      <td>1.0</td>\n",
       "      <td>1.0</td>\n",
       "      <td>1.0</td>\n",
       "      <td>2020-06-01</td>\n",
       "      <td>0.0</td>\n",
       "    </tr>\n",
       "    <tr>\n",
       "      <th>3</th>\n",
       "      <td>Сотрудник 4</td>\n",
       "      <td>Место3</td>\n",
       "      <td>2020-05-31</td>\n",
       "      <td>1.0</td>\n",
       "      <td>2.0</td>\n",
       "      <td>1.0</td>\n",
       "      <td>2020-06-01</td>\n",
       "      <td>0.0</td>\n",
       "    </tr>\n",
       "    <tr>\n",
       "      <th>4</th>\n",
       "      <td>Сотрудник 5</td>\n",
       "      <td>Место2</td>\n",
       "      <td>2020-05-30</td>\n",
       "      <td>1.0</td>\n",
       "      <td>2.0</td>\n",
       "      <td>2.0</td>\n",
       "      <td>2020-06-01</td>\n",
       "      <td>0.0</td>\n",
       "    </tr>\n",
       "    <tr>\n",
       "      <th>...</th>\n",
       "      <td>...</td>\n",
       "      <td>...</td>\n",
       "      <td>...</td>\n",
       "      <td>...</td>\n",
       "      <td>...</td>\n",
       "      <td>...</td>\n",
       "      <td>...</td>\n",
       "      <td>...</td>\n",
       "    </tr>\n",
       "    <tr>\n",
       "      <th>184</th>\n",
       "      <td>Сотрудник 185</td>\n",
       "      <td>Место1</td>\n",
       "      <td>2020-06-08</td>\n",
       "      <td>1.0</td>\n",
       "      <td>2.0</td>\n",
       "      <td>1.0</td>\n",
       "      <td>2020-06-10</td>\n",
       "      <td>0.0</td>\n",
       "    </tr>\n",
       "    <tr>\n",
       "      <th>225</th>\n",
       "      <td>Сотрудник 225</td>\n",
       "      <td>Место3</td>\n",
       "      <td>2020-06-09</td>\n",
       "      <td>1.0</td>\n",
       "      <td>2.0</td>\n",
       "      <td>1.0</td>\n",
       "      <td>2020-06-11</td>\n",
       "      <td>0.0</td>\n",
       "    </tr>\n",
       "    <tr>\n",
       "      <th>232</th>\n",
       "      <td>Сотрудник 232</td>\n",
       "      <td>Место2</td>\n",
       "      <td>2020-06-10</td>\n",
       "      <td>1.0</td>\n",
       "      <td>1.0</td>\n",
       "      <td>3.0</td>\n",
       "      <td>2020-06-11</td>\n",
       "      <td>0.0</td>\n",
       "    </tr>\n",
       "    <tr>\n",
       "      <th>237</th>\n",
       "      <td>Сотрудник 237</td>\n",
       "      <td>Место1</td>\n",
       "      <td>2020-06-09</td>\n",
       "      <td>1.0</td>\n",
       "      <td>2.0</td>\n",
       "      <td>3.0</td>\n",
       "      <td>2020-06-12</td>\n",
       "      <td>0.0</td>\n",
       "    </tr>\n",
       "    <tr>\n",
       "      <th>265</th>\n",
       "      <td>Сотрудник 265</td>\n",
       "      <td>Место1</td>\n",
       "      <td>2020-06-10</td>\n",
       "      <td>1.0</td>\n",
       "      <td>2.0</td>\n",
       "      <td>3.0</td>\n",
       "      <td>2020-06-13</td>\n",
       "      <td>0.0</td>\n",
       "    </tr>\n",
       "  </tbody>\n",
       "</table>\n",
       "<p>187 rows × 8 columns</p>\n",
       "</div>"
      ],
      "text/plain": [
       "              name   place confirm_date  health  job_type  type_test  \\\n",
       "0      Сотрудник 1  Место1   2020-05-30     1.0       2.0        1.0   \n",
       "1      Сотрудник 2  Место1   2020-05-30     1.0       2.0        1.0   \n",
       "2      Сотрудник 3  Место2   2020-05-30     1.0       1.0        1.0   \n",
       "3      Сотрудник 4  Место3   2020-05-31     1.0       2.0        1.0   \n",
       "4      Сотрудник 5  Место2   2020-05-30     1.0       2.0        2.0   \n",
       "..             ...     ...          ...     ...       ...        ...   \n",
       "184  Сотрудник 185  Место1   2020-06-08     1.0       2.0        1.0   \n",
       "225  Сотрудник 225  Место3   2020-06-09     1.0       2.0        1.0   \n",
       "232  Сотрудник 232  Место2   2020-06-10     1.0       1.0        3.0   \n",
       "237  Сотрудник 237  Место1   2020-06-09     1.0       2.0        3.0   \n",
       "265  Сотрудник 265  Место1   2020-06-10     1.0       2.0        3.0   \n",
       "\n",
       "    include_date  covid  \n",
       "0     2020-06-01    0.0  \n",
       "1     2020-06-01    0.0  \n",
       "2     2020-06-01    0.0  \n",
       "3     2020-06-01    0.0  \n",
       "4     2020-06-01    0.0  \n",
       "..           ...    ...  \n",
       "184   2020-06-10    0.0  \n",
       "225   2020-06-11    0.0  \n",
       "232   2020-06-11    0.0  \n",
       "237   2020-06-12    0.0  \n",
       "265   2020-06-13    0.0  \n",
       "\n",
       "[187 rows x 8 columns]"
      ]
     },
     "execution_count": 427,
     "metadata": {},
     "output_type": "execute_result"
    }
   ],
   "source": [
    "df[df['covid'] == 0]"
   ]
  },
  {
   "cell_type": "markdown",
   "id": "d8a949cd",
   "metadata": {},
   "source": [
    "Дата подтверждения COVID-19 есть у каждого пользователя в списке, это означает, что каждый болел"
   ]
  },
  {
   "cell_type": "code",
   "execution_count": 445,
   "id": "f9a6bd86",
   "metadata": {},
   "outputs": [
    {
     "name": "stdout",
     "output_type": "stream",
     "text": [
      "Процент выздоровевших сотрудников от общего числа заболевших (с учетом дубликатов по name) 26.91%\n"
     ]
    }
   ],
   "source": [
    "print(f\"Процент выздоровевших сотрудников от общего числа заболевших (с учетом дубликатов по name) {round(df['health'].value_counts(normalize = 'probability').values[1] * 100,2)}%\")"
   ]
  },
  {
   "cell_type": "code",
   "execution_count": 443,
   "id": "7ad90aa5",
   "metadata": {},
   "outputs": [
    {
     "data": {
      "text/plain": [
       "0.0    0.729496\n",
       "1.0    0.269065\n",
       "2.0    0.001439\n",
       "Name: health, dtype: float64"
      ]
     },
     "execution_count": 443,
     "metadata": {},
     "output_type": "execute_result"
    }
   ],
   "source": [
    "df['health'].value_counts(normalize = 'probability')"
   ]
  },
  {
   "cell_type": "code",
   "execution_count": 446,
   "id": "d1de71cd",
   "metadata": {},
   "outputs": [],
   "source": [
    "df_without_duplicates = df.drop_duplicates(subset='name')"
   ]
  },
  {
   "cell_type": "code",
   "execution_count": 457,
   "id": "c25a2d5e",
   "metadata": {},
   "outputs": [
    {
     "name": "stdout",
     "output_type": "stream",
     "text": [
      "Процент выздоровевших сотрудников от общего числа заболевших (без учета дубликатов по name) 27.5%\n"
     ]
    }
   ],
   "source": [
    "print(f\"Процент выздоровевших сотрудников от общего числа заболевших (без учета дубликатов по name) {round(df_without_duplicates['health'].value_counts(normalize = 'probability').values[1] * 100,2)}%\")"
   ]
  },
  {
   "cell_type": "markdown",
   "id": "0e256e1e",
   "metadata": {},
   "source": [
    "#### 7 Задание"
   ]
  },
  {
   "cell_type": "markdown",
   "id": "1a655c04",
   "metadata": {},
   "source": [
    " Найти «однофамильцев» в таблице"
   ]
  },
  {
   "cell_type": "code",
   "execution_count": 469,
   "id": "07584ef7",
   "metadata": {},
   "outputs": [
    {
     "data": {
      "text/html": [
       "<div>\n",
       "<style scoped>\n",
       "    .dataframe tbody tr th:only-of-type {\n",
       "        vertical-align: middle;\n",
       "    }\n",
       "\n",
       "    .dataframe tbody tr th {\n",
       "        vertical-align: top;\n",
       "    }\n",
       "\n",
       "    .dataframe thead th {\n",
       "        text-align: right;\n",
       "    }\n",
       "</style>\n",
       "<table border=\"1\" class=\"dataframe\">\n",
       "  <thead>\n",
       "    <tr style=\"text-align: right;\">\n",
       "      <th></th>\n",
       "      <th>name</th>\n",
       "      <th>place</th>\n",
       "      <th>confirm_date</th>\n",
       "      <th>health</th>\n",
       "      <th>job_type</th>\n",
       "      <th>type_test</th>\n",
       "      <th>include_date</th>\n",
       "      <th>covid</th>\n",
       "    </tr>\n",
       "  </thead>\n",
       "  <tbody>\n",
       "    <tr>\n",
       "      <th>0</th>\n",
       "      <td>Сотрудник 1</td>\n",
       "      <td>Место1</td>\n",
       "      <td>2020-05-30</td>\n",
       "      <td>1.0</td>\n",
       "      <td>2.0</td>\n",
       "      <td>1.0</td>\n",
       "      <td>2020-06-01</td>\n",
       "      <td>0.0</td>\n",
       "    </tr>\n",
       "    <tr>\n",
       "      <th>1</th>\n",
       "      <td>Сотрудник 2</td>\n",
       "      <td>Место1</td>\n",
       "      <td>2020-05-30</td>\n",
       "      <td>1.0</td>\n",
       "      <td>2.0</td>\n",
       "      <td>1.0</td>\n",
       "      <td>2020-06-01</td>\n",
       "      <td>0.0</td>\n",
       "    </tr>\n",
       "    <tr>\n",
       "      <th>2</th>\n",
       "      <td>Сотрудник 3</td>\n",
       "      <td>Место2</td>\n",
       "      <td>2020-05-30</td>\n",
       "      <td>1.0</td>\n",
       "      <td>1.0</td>\n",
       "      <td>1.0</td>\n",
       "      <td>2020-06-01</td>\n",
       "      <td>0.0</td>\n",
       "    </tr>\n",
       "    <tr>\n",
       "      <th>3</th>\n",
       "      <td>Сотрудник 4</td>\n",
       "      <td>Место3</td>\n",
       "      <td>2020-05-31</td>\n",
       "      <td>1.0</td>\n",
       "      <td>2.0</td>\n",
       "      <td>1.0</td>\n",
       "      <td>2020-06-01</td>\n",
       "      <td>0.0</td>\n",
       "    </tr>\n",
       "    <tr>\n",
       "      <th>4</th>\n",
       "      <td>Сотрудник 5</td>\n",
       "      <td>Место2</td>\n",
       "      <td>2020-05-30</td>\n",
       "      <td>1.0</td>\n",
       "      <td>2.0</td>\n",
       "      <td>2.0</td>\n",
       "      <td>2020-06-01</td>\n",
       "      <td>0.0</td>\n",
       "    </tr>\n",
       "  </tbody>\n",
       "</table>\n",
       "</div>"
      ],
      "text/plain": [
       "          name   place confirm_date  health  job_type  type_test include_date  \\\n",
       "0  Сотрудник 1  Место1   2020-05-30     1.0       2.0        1.0   2020-06-01   \n",
       "1  Сотрудник 2  Место1   2020-05-30     1.0       2.0        1.0   2020-06-01   \n",
       "2  Сотрудник 3  Место2   2020-05-30     1.0       1.0        1.0   2020-06-01   \n",
       "3  Сотрудник 4  Место3   2020-05-31     1.0       2.0        1.0   2020-06-01   \n",
       "4  Сотрудник 5  Место2   2020-05-30     1.0       2.0        2.0   2020-06-01   \n",
       "\n",
       "   covid  \n",
       "0    0.0  \n",
       "1    0.0  \n",
       "2    0.0  \n",
       "3    0.0  \n",
       "4    0.0  "
      ]
     },
     "execution_count": 469,
     "metadata": {},
     "output_type": "execute_result"
    }
   ],
   "source": [
    "df.head()"
   ]
  },
  {
   "cell_type": "code",
   "execution_count": 477,
   "id": "d804b883",
   "metadata": {},
   "outputs": [],
   "source": [
    "df_namesake_quantity = df[df.duplicated(subset = 'name')].groupby('name').agg({'health':'count'}).reset_index() \\\n",
    "                                                .rename(columns = ({'health':'namesake_quantity'}))"
   ]
  },
  {
   "cell_type": "code",
   "execution_count": 560,
   "id": "cd3730e5",
   "metadata": {},
   "outputs": [
    {
     "data": {
      "text/html": [
       "<div>\n",
       "<style scoped>\n",
       "    .dataframe tbody tr th:only-of-type {\n",
       "        vertical-align: middle;\n",
       "    }\n",
       "\n",
       "    .dataframe tbody tr th {\n",
       "        vertical-align: top;\n",
       "    }\n",
       "\n",
       "    .dataframe thead th {\n",
       "        text-align: right;\n",
       "    }\n",
       "</style>\n",
       "<table border=\"1\" class=\"dataframe\">\n",
       "  <thead>\n",
       "    <tr style=\"text-align: right;\">\n",
       "      <th></th>\n",
       "      <th>name</th>\n",
       "      <th>namesake_quantity</th>\n",
       "    </tr>\n",
       "  </thead>\n",
       "  <tbody>\n",
       "    <tr>\n",
       "      <th>0</th>\n",
       "      <td>Сотрудник 222</td>\n",
       "      <td>1</td>\n",
       "    </tr>\n",
       "    <tr>\n",
       "      <th>1</th>\n",
       "      <td>Сотрудник 333</td>\n",
       "      <td>2</td>\n",
       "    </tr>\n",
       "    <tr>\n",
       "      <th>2</th>\n",
       "      <td>Сотрудник 444</td>\n",
       "      <td>3</td>\n",
       "    </tr>\n",
       "    <tr>\n",
       "      <th>3</th>\n",
       "      <td>Сотрудник 555</td>\n",
       "      <td>4</td>\n",
       "    </tr>\n",
       "    <tr>\n",
       "      <th>4</th>\n",
       "      <td>Сотрудник 666</td>\n",
       "      <td>5</td>\n",
       "    </tr>\n",
       "  </tbody>\n",
       "</table>\n",
       "</div>"
      ],
      "text/plain": [
       "            name  namesake_quantity\n",
       "0  Сотрудник 222                  1\n",
       "1  Сотрудник 333                  2\n",
       "2  Сотрудник 444                  3\n",
       "3  Сотрудник 555                  4\n",
       "4  Сотрудник 666                  5"
      ]
     },
     "execution_count": 560,
     "metadata": {},
     "output_type": "execute_result"
    }
   ],
   "source": [
    "df_namesake_quantity\n",
    "#при учете, что это уникальные пользователи и в таблицу изначально занесены уникальные юзеры"
   ]
  },
  {
   "cell_type": "markdown",
   "id": "782512b4",
   "metadata": {},
   "source": [
    "#### Вывод\n",
    "1. Всего \"однофамильцев\" в списке - 15\n",
    "2. Доп. наблюдение: все однофамильцы на момент занесения в список больны"
   ]
  },
  {
   "cell_type": "markdown",
   "id": "2ed38aa5",
   "metadata": {},
   "source": [
    "#### Дополнительно"
   ]
  },
  {
   "cell_type": "code",
   "execution_count": 359,
   "id": "1e5b1a36",
   "metadata": {},
   "outputs": [],
   "source": [
    "df_new = df.copy()"
   ]
  },
  {
   "cell_type": "code",
   "execution_count": 360,
   "id": "6cad3dfb",
   "metadata": {},
   "outputs": [],
   "source": [
    "df_new[['place_1','place_2','place_3','place_4']] = pd.get_dummies(df_new['place'])"
   ]
  },
  {
   "cell_type": "code",
   "execution_count": 361,
   "id": "61c81fd7",
   "metadata": {},
   "outputs": [
    {
     "data": {
      "text/plain": [
       "Text(0.5, 1.0, 'График корреляции переменных')"
      ]
     },
     "execution_count": 361,
     "metadata": {},
     "output_type": "execute_result"
    },
    {
     "data": {
      "image/png": "[encoded data removed]",
      "text/plain": [
       "<Figure size 1440x720 with 2 Axes>"
      ]
     },
     "metadata": {},
     "output_type": "display_data"
    }
   ],
   "source": [
    "plt.figure(figsize = (20,10))\n",
    "sns.heatmap(df_new.corr(), mask = np.triu(df_new.corr()), annot = True, annot_kws={'size': 14})\n",
    "plt.title('График корреляции переменных')"
   ]
  },
  {
   "cell_type": "code",
   "execution_count": 424,
   "id": "b576f0cc",
   "metadata": {},
   "outputs": [
    {
     "data": {
      "text/html": [
       "<div>\n",
       "<style scoped>\n",
       "    .dataframe tbody tr th:only-of-type {\n",
       "        vertical-align: middle;\n",
       "    }\n",
       "\n",
       "    .dataframe tbody tr th {\n",
       "        vertical-align: top;\n",
       "    }\n",
       "\n",
       "    .dataframe thead th {\n",
       "        text-align: right;\n",
       "    }\n",
       "</style>\n",
       "<table border=\"1\" class=\"dataframe\">\n",
       "  <thead>\n",
       "    <tr style=\"text-align: right;\">\n",
       "      <th></th>\n",
       "      <th>name</th>\n",
       "      <th>place</th>\n",
       "      <th>confirm_date</th>\n",
       "      <th>health</th>\n",
       "      <th>job_type</th>\n",
       "      <th>type_test</th>\n",
       "      <th>include_date</th>\n",
       "      <th>covid</th>\n",
       "    </tr>\n",
       "  </thead>\n",
       "  <tbody>\n",
       "    <tr>\n",
       "      <th>0</th>\n",
       "      <td>Сотрудник 1</td>\n",
       "      <td>Место1</td>\n",
       "      <td>2020-05-30</td>\n",
       "      <td>1.0</td>\n",
       "      <td>2.0</td>\n",
       "      <td>1.0</td>\n",
       "      <td>2020-06-01</td>\n",
       "      <td>0.0</td>\n",
       "    </tr>\n",
       "    <tr>\n",
       "      <th>1</th>\n",
       "      <td>Сотрудник 2</td>\n",
       "      <td>Место1</td>\n",
       "      <td>2020-05-30</td>\n",
       "      <td>1.0</td>\n",
       "      <td>2.0</td>\n",
       "      <td>1.0</td>\n",
       "      <td>2020-06-01</td>\n",
       "      <td>0.0</td>\n",
       "    </tr>\n",
       "    <tr>\n",
       "      <th>2</th>\n",
       "      <td>Сотрудник 3</td>\n",
       "      <td>Место2</td>\n",
       "      <td>2020-05-30</td>\n",
       "      <td>1.0</td>\n",
       "      <td>1.0</td>\n",
       "      <td>1.0</td>\n",
       "      <td>2020-06-01</td>\n",
       "      <td>0.0</td>\n",
       "    </tr>\n",
       "    <tr>\n",
       "      <th>3</th>\n",
       "      <td>Сотрудник 4</td>\n",
       "      <td>Место3</td>\n",
       "      <td>2020-05-31</td>\n",
       "      <td>1.0</td>\n",
       "      <td>2.0</td>\n",
       "      <td>1.0</td>\n",
       "      <td>2020-06-01</td>\n",
       "      <td>0.0</td>\n",
       "    </tr>\n",
       "    <tr>\n",
       "      <th>4</th>\n",
       "      <td>Сотрудник 5</td>\n",
       "      <td>Место2</td>\n",
       "      <td>2020-05-30</td>\n",
       "      <td>1.0</td>\n",
       "      <td>2.0</td>\n",
       "      <td>2.0</td>\n",
       "      <td>2020-06-01</td>\n",
       "      <td>0.0</td>\n",
       "    </tr>\n",
       "    <tr>\n",
       "      <th>...</th>\n",
       "      <td>...</td>\n",
       "      <td>...</td>\n",
       "      <td>...</td>\n",
       "      <td>...</td>\n",
       "      <td>...</td>\n",
       "      <td>...</td>\n",
       "      <td>...</td>\n",
       "      <td>...</td>\n",
       "    </tr>\n",
       "    <tr>\n",
       "      <th>690</th>\n",
       "      <td>Сотрудник 676</td>\n",
       "      <td>Место2</td>\n",
       "      <td>2020-06-29</td>\n",
       "      <td>0.0</td>\n",
       "      <td>2.0</td>\n",
       "      <td>3.0</td>\n",
       "      <td>2020-06-30</td>\n",
       "      <td>1.0</td>\n",
       "    </tr>\n",
       "    <tr>\n",
       "      <th>691</th>\n",
       "      <td>Сотрудник 677</td>\n",
       "      <td>Место2</td>\n",
       "      <td>2020-06-28</td>\n",
       "      <td>0.0</td>\n",
       "      <td>2.0</td>\n",
       "      <td>2.0</td>\n",
       "      <td>2020-06-30</td>\n",
       "      <td>1.0</td>\n",
       "    </tr>\n",
       "    <tr>\n",
       "      <th>692</th>\n",
       "      <td>Сотрудник 678</td>\n",
       "      <td>Место2</td>\n",
       "      <td>2020-06-27</td>\n",
       "      <td>0.0</td>\n",
       "      <td>2.0</td>\n",
       "      <td>2.0</td>\n",
       "      <td>2020-06-30</td>\n",
       "      <td>1.0</td>\n",
       "    </tr>\n",
       "    <tr>\n",
       "      <th>693</th>\n",
       "      <td>Сотрудник 679</td>\n",
       "      <td>Место2</td>\n",
       "      <td>2020-06-25</td>\n",
       "      <td>0.0</td>\n",
       "      <td>2.0</td>\n",
       "      <td>1.0</td>\n",
       "      <td>2020-06-30</td>\n",
       "      <td>1.0</td>\n",
       "    </tr>\n",
       "    <tr>\n",
       "      <th>694</th>\n",
       "      <td>Сотрудник 680</td>\n",
       "      <td>Место1</td>\n",
       "      <td>2020-06-29</td>\n",
       "      <td>0.0</td>\n",
       "      <td>2.0</td>\n",
       "      <td>1.0</td>\n",
       "      <td>2020-06-30</td>\n",
       "      <td>1.0</td>\n",
       "    </tr>\n",
       "  </tbody>\n",
       "</table>\n",
       "<p>695 rows × 8 columns</p>\n",
       "</div>"
      ],
      "text/plain": [
       "              name   place confirm_date  health  job_type  type_test  \\\n",
       "0      Сотрудник 1  Место1   2020-05-30     1.0       2.0        1.0   \n",
       "1      Сотрудник 2  Место1   2020-05-30     1.0       2.0        1.0   \n",
       "2      Сотрудник 3  Место2   2020-05-30     1.0       1.0        1.0   \n",
       "3      Сотрудник 4  Место3   2020-05-31     1.0       2.0        1.0   \n",
       "4      Сотрудник 5  Место2   2020-05-30     1.0       2.0        2.0   \n",
       "..             ...     ...          ...     ...       ...        ...   \n",
       "690  Сотрудник 676  Место2   2020-06-29     0.0       2.0        3.0   \n",
       "691  Сотрудник 677  Место2   2020-06-28     0.0       2.0        2.0   \n",
       "692  Сотрудник 678  Место2   2020-06-27     0.0       2.0        2.0   \n",
       "693  Сотрудник 679  Место2   2020-06-25     0.0       2.0        1.0   \n",
       "694  Сотрудник 680  Место1   2020-06-29     0.0       2.0        1.0   \n",
       "\n",
       "    include_date  covid  \n",
       "0     2020-06-01    0.0  \n",
       "1     2020-06-01    0.0  \n",
       "2     2020-06-01    0.0  \n",
       "3     2020-06-01    0.0  \n",
       "4     2020-06-01    0.0  \n",
       "..           ...    ...  \n",
       "690   2020-06-30    1.0  \n",
       "691   2020-06-30    1.0  \n",
       "692   2020-06-30    1.0  \n",
       "693   2020-06-30    1.0  \n",
       "694   2020-06-30    1.0  \n",
       "\n",
       "[695 rows x 8 columns]"
      ]
     },
     "execution_count": 424,
     "metadata": {},
     "output_type": "execute_result"
    }
   ],
   "source": [
    "df[df['confirm_date'] <= df['include_date']]\n",
    "#все данные занесены правильно => ошибки нет"
   ]
  },
  {
   "cell_type": "markdown",
   "id": "517fca26",
   "metadata": {},
   "source": [
    "Посмотрю на тип тестов, проводимых людьми с разными типами работы и состоянием здоровья"
   ]
  },
  {
   "cell_type": "code",
   "execution_count": 480,
   "id": "72c8f985",
   "metadata": {},
   "outputs": [
    {
     "data": {
      "text/html": [
       "<div>\n",
       "<style scoped>\n",
       "    .dataframe tbody tr th:only-of-type {\n",
       "        vertical-align: middle;\n",
       "    }\n",
       "\n",
       "    .dataframe tbody tr th {\n",
       "        vertical-align: top;\n",
       "    }\n",
       "\n",
       "    .dataframe thead th {\n",
       "        text-align: right;\n",
       "    }\n",
       "</style>\n",
       "<table border=\"1\" class=\"dataframe\">\n",
       "  <thead>\n",
       "    <tr style=\"text-align: right;\">\n",
       "      <th></th>\n",
       "      <th>name</th>\n",
       "      <th>place</th>\n",
       "      <th>confirm_date</th>\n",
       "      <th>health</th>\n",
       "      <th>job_type</th>\n",
       "      <th>type_test</th>\n",
       "      <th>include_date</th>\n",
       "      <th>covid</th>\n",
       "    </tr>\n",
       "  </thead>\n",
       "  <tbody>\n",
       "    <tr>\n",
       "      <th>0</th>\n",
       "      <td>Сотрудник 1</td>\n",
       "      <td>Место1</td>\n",
       "      <td>2020-05-30</td>\n",
       "      <td>1.0</td>\n",
       "      <td>2.0</td>\n",
       "      <td>1.0</td>\n",
       "      <td>2020-06-01</td>\n",
       "      <td>0.0</td>\n",
       "    </tr>\n",
       "    <tr>\n",
       "      <th>1</th>\n",
       "      <td>Сотрудник 2</td>\n",
       "      <td>Место1</td>\n",
       "      <td>2020-05-30</td>\n",
       "      <td>1.0</td>\n",
       "      <td>2.0</td>\n",
       "      <td>1.0</td>\n",
       "      <td>2020-06-01</td>\n",
       "      <td>0.0</td>\n",
       "    </tr>\n",
       "    <tr>\n",
       "      <th>2</th>\n",
       "      <td>Сотрудник 3</td>\n",
       "      <td>Место2</td>\n",
       "      <td>2020-05-30</td>\n",
       "      <td>1.0</td>\n",
       "      <td>1.0</td>\n",
       "      <td>1.0</td>\n",
       "      <td>2020-06-01</td>\n",
       "      <td>0.0</td>\n",
       "    </tr>\n",
       "    <tr>\n",
       "      <th>3</th>\n",
       "      <td>Сотрудник 4</td>\n",
       "      <td>Место3</td>\n",
       "      <td>2020-05-31</td>\n",
       "      <td>1.0</td>\n",
       "      <td>2.0</td>\n",
       "      <td>1.0</td>\n",
       "      <td>2020-06-01</td>\n",
       "      <td>0.0</td>\n",
       "    </tr>\n",
       "    <tr>\n",
       "      <th>4</th>\n",
       "      <td>Сотрудник 5</td>\n",
       "      <td>Место2</td>\n",
       "      <td>2020-05-30</td>\n",
       "      <td>1.0</td>\n",
       "      <td>2.0</td>\n",
       "      <td>2.0</td>\n",
       "      <td>2020-06-01</td>\n",
       "      <td>0.0</td>\n",
       "    </tr>\n",
       "  </tbody>\n",
       "</table>\n",
       "</div>"
      ],
      "text/plain": [
       "          name   place confirm_date  health  job_type  type_test include_date  \\\n",
       "0  Сотрудник 1  Место1   2020-05-30     1.0       2.0        1.0   2020-06-01   \n",
       "1  Сотрудник 2  Место1   2020-05-30     1.0       2.0        1.0   2020-06-01   \n",
       "2  Сотрудник 3  Место2   2020-05-30     1.0       1.0        1.0   2020-06-01   \n",
       "3  Сотрудник 4  Место3   2020-05-31     1.0       2.0        1.0   2020-06-01   \n",
       "4  Сотрудник 5  Место2   2020-05-30     1.0       2.0        2.0   2020-06-01   \n",
       "\n",
       "   covid  \n",
       "0    0.0  \n",
       "1    0.0  \n",
       "2    0.0  \n",
       "3    0.0  \n",
       "4    0.0  "
      ]
     },
     "execution_count": 480,
     "metadata": {},
     "output_type": "execute_result"
    }
   ],
   "source": [
    "df.head()"
   ]
  },
  {
   "cell_type": "code",
   "execution_count": 483,
   "id": "0eba4384",
   "metadata": {},
   "outputs": [
    {
     "data": {
      "text/plain": [
       "health  type_test\n",
       "0.0     1.0          306\n",
       "        3.0          138\n",
       "        2.0           63\n",
       "1.0     3.0           86\n",
       "        1.0           73\n",
       "        2.0           28\n",
       "2.0     1.0            1\n",
       "Name: type_test, dtype: int64"
      ]
     },
     "execution_count": 483,
     "metadata": {},
     "output_type": "execute_result"
    }
   ],
   "source": [
    "df.groupby('health')['type_test'].value_counts()"
   ]
  },
  {
   "cell_type": "code",
   "execution_count": 484,
   "id": "9f949507",
   "metadata": {},
   "outputs": [
    {
     "data": {
      "text/plain": [
       "job_type  type_test\n",
       "1.0       3.0           56\n",
       "          1.0           49\n",
       "          2.0           15\n",
       "2.0       1.0          331\n",
       "          3.0          168\n",
       "          2.0           76\n",
       "Name: type_test, dtype: int64"
      ]
     },
     "execution_count": 484,
     "metadata": {},
     "output_type": "execute_result"
    }
   ],
   "source": [
    "df.groupby('job_type')['type_test'].value_counts()"
   ]
  },
  {
   "cell_type": "markdown",
   "id": "58e2f2d7",
   "metadata": {},
   "source": [
    "#### Выводы\n",
    "1. При большей информации (по переменным и сотрудникам за определенное время можно было бы детектить, предиктить коронавирус намного раньше)\n",
    "2. Наибольшая корреляция между типом тестов и состоянию здоровья человека, т.е. состояние здоровья влияет (не очень сильно) на тип теста"
   ]
  },
  {
   "cell_type": "code",
   "execution_count": null,
   "id": "67987283",
   "metadata": {},
   "outputs": [],
   "source": []
  }
 ],
 "metadata": {
  "kernelspec": {
   "display_name": "Python 3 (ipykernel)",
   "language": "python",
   "name": "python3"
  },
  "language_info": {
   "codemirror_mode": {
    "name": "ipython",
    "version": 3
   },
   "file_extension": ".py",
   "mimetype": "text/x-python",
   "name": "python",
   "nbconvert_exporter": "python",
   "pygments_lexer": "ipython3",
   "version": "3.10.4"
  }
 },
 "nbformat": 4,
 "nbformat_minor": 5
}
